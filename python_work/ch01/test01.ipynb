{
 "cells": [
  {
   "cell_type": "code",
   "execution_count": 1,
   "metadata": {},
   "outputs": [
    {
     "data": {
      "text/plain": [
       "20"
      ]
     },
     "execution_count": 1,
     "metadata": {},
     "output_type": "execute_result"
    }
   ],
   "source": [
    "a=10\n",
    "b=10\n",
    "a+b"
   ]
  },
  {
   "cell_type": "code",
   "execution_count": 3,
   "metadata": {},
   "outputs": [],
   "source": [
    "#설명"
   ]
  },
  {
   "cell_type": "markdown",
   "metadata": {},
   "source": [
    "파이썬 첫번째 예제"
   ]
  },
  {
   "cell_type": "code",
   "execution_count": 8,
   "metadata": {},
   "outputs": [],
   "source": [
    "a=10\n",
    "b=4"
   ]
  },
  {
   "cell_type": "code",
   "execution_count": 9,
   "metadata": {},
   "outputs": [
    {
     "name": "stdout",
     "output_type": "stream",
     "text": [
      "14\n",
      "6\n",
      "40\n",
      "2.5\n"
     ]
    }
   ],
   "source": [
    "#사칙연산\n",
    "print(a+b)\n",
    "print(a-b)\n",
    "print(a*b)\n",
    "print(a/b)"
   ]
  },
  {
   "cell_type": "code",
   "execution_count": 10,
   "metadata": {},
   "outputs": [
    {
     "name": "stdout",
     "output_type": "stream",
     "text": [
      "2\n",
      "2\n"
     ]
    }
   ],
   "source": [
    "#정수의 목과 나머지\n",
    "print(a//b)\n",
    "print(a%b)"
   ]
  },
  {
   "cell_type": "code",
   "execution_count": 11,
   "metadata": {},
   "outputs": [
    {
     "name": "stdout",
     "output_type": "stream",
     "text": [
      "10000\n"
     ]
    }
   ],
   "source": [
    "# 지수성\n",
    "print(a**b)"
   ]
  },
  {
   "cell_type": "code",
   "execution_count": 13,
   "metadata": {},
   "outputs": [
    {
     "name": "stdout",
     "output_type": "stream",
     "text": [
      "11\n",
      "10\n"
     ]
    }
   ],
   "source": [
    "# 증가, 감소 연산\n",
    "a+=1; print(a)\n",
    "a-=1; print(a)"
   ]
  },
  {
   "cell_type": "code",
   "execution_count": 14,
   "metadata": {},
   "outputs": [
    {
     "name": "stdout",
     "output_type": "stream",
     "text": [
      "True\n",
      "False\n",
      "False\n",
      "True\n",
      "True\n",
      "False\n"
     ]
    }
   ],
   "source": [
    "# 비교연산\n",
    "print(a>b)\n",
    "print(a<b)\n",
    "print(a==b)\n",
    "print(a!=b)\n",
    "print(a>=b)\n",
    "print(a<=b)"
   ]
  },
  {
   "cell_type": "code",
   "execution_count": 15,
   "metadata": {},
   "outputs": [
    {
     "name": "stdout",
     "output_type": "stream",
     "text": [
      "10 4\n"
     ]
    }
   ],
   "source": [
    "print(a, b)"
   ]
  },
  {
   "cell_type": "code",
   "execution_count": null,
   "metadata": {},
   "outputs": [],
   "source": [
    "#a=1010\n",
    "#b=0100"
   ]
  },
  {
   "cell_type": "code",
   "execution_count": 22,
   "metadata": {},
   "outputs": [
    {
     "name": "stdout",
     "output_type": "stream",
     "text": [
      "0\n",
      "14\n",
      "14\n",
      "-10\n",
      "80\n",
      "2\n"
     ]
    }
   ],
   "source": [
    "# 비트 연산\n",
    "print(a&b)\n",
    "print(a|b)\n",
    "print(a^b)\n",
    "print(~a+1)\n",
    "print(a<<3)\n",
    "print(a>>2)"
   ]
  },
  {
   "cell_type": "code",
   "execution_count": 29,
   "metadata": {},
   "outputs": [
    {
     "name": "stdout",
     "output_type": "stream",
     "text": [
      "True\n",
      "False\n",
      "False\n",
      "True\n"
     ]
    }
   ],
   "source": [
    "# 논리 연산\n",
    "print(a>5 and b<5)\n",
    "print(a>5 and b>5)\n",
    "print(not(a>5 or b<5))\n",
    "print(not(a<5 or b>5))"
   ]
  },
  {
   "cell_type": "code",
   "execution_count": 30,
   "metadata": {},
   "outputs": [],
   "source": [
    "a=10"
   ]
  },
  {
   "cell_type": "code",
   "execution_count": 32,
   "metadata": {},
   "outputs": [
    {
     "name": "stdout",
     "output_type": "stream",
     "text": [
      "10 10.0\n",
      "10 10.0 10\n"
     ]
    }
   ],
   "source": [
    "# 형변환(정수-> 실수, 실수 -> 정수)\n",
    "b=float(a)\n",
    "print(a, b)\n",
    "c=int(b)\n",
    "print(a, b, c)"
   ]
  },
  {
   "cell_type": "code",
   "execution_count": 33,
   "metadata": {},
   "outputs": [
    {
     "name": "stdout",
     "output_type": "stream",
     "text": [
      "3.3333333333333335\n"
     ]
    }
   ],
   "source": [
    "# 자동 형변화\n",
    "print(a/3)"
   ]
  },
  {
   "cell_type": "code",
   "execution_count": 34,
   "metadata": {},
   "outputs": [
    {
     "name": "stdout",
     "output_type": "stream",
     "text": [
      "True\n",
      "True\n"
     ]
    }
   ],
   "source": [
    "print(1==True)\n",
    "print(0==False)"
   ]
  },
  {
   "cell_type": "code",
   "execution_count": 36,
   "metadata": {},
   "outputs": [
    {
     "name": "stdout",
     "output_type": "stream",
     "text": [
      "25.6 55.6 25.6 55.6\n",
      "<class 'str'> <class 'float'>\n"
     ]
    }
   ],
   "source": [
    "#형변환 : 문자열 -> 실수로\n",
    "a='25.6'\n",
    "b=\"55.6\"\n",
    "fa=float(a)\n",
    "fb=float(b)\n",
    "print(a, b, fa, fb)\n",
    "print(type(a), type(fa))"
   ]
  },
  {
   "cell_type": "code",
   "execution_count": 39,
   "metadata": {},
   "outputs": [
    {
     "name": "stdout",
     "output_type": "stream",
     "text": [
      "25.6 55.6\n",
      "81.2\n"
     ]
    }
   ],
   "source": [
    "#더하기 연산 : 숫자+숫자, 문자+문자 , 문자+숫자 불가능\n",
    "print(a+' '+b)\n",
    "print(fa+fb)"
   ]
  },
  {
   "cell_type": "code",
   "execution_count": 41,
   "metadata": {},
   "outputs": [
    {
     "name": "stdout",
     "output_type": "stream",
     "text": [
      "**********\n"
     ]
    }
   ],
   "source": [
    "#문자열 곱하기\n",
    "s1=\"*\"\n",
    "print(s1*10)"
   ]
  },
  {
   "cell_type": "code",
   "execution_count": 43,
   "metadata": {},
   "outputs": [
    {
     "name": "stdout",
     "output_type": "stream",
     "text": [
      "True\n",
      "False\n"
     ]
    }
   ],
   "source": [
    "# in, not in 연산자\n",
    "s2=\"abcd\"\n",
    "print('a' in s2)\n",
    "print('a' not in s2)"
   ]
  },
  {
   "cell_type": "code",
   "execution_count": 46,
   "metadata": {},
   "outputs": [
    {
     "name": "stdout",
     "output_type": "stream",
     "text": [
      "홍\n"
     ]
    }
   ],
   "source": [
    "# 입력함수\n",
    "name=input(\"이름을 입력하세요\")\n",
    "print(name)"
   ]
  },
  {
   "cell_type": "code",
   "execution_count": 48,
   "metadata": {},
   "outputs": [
    {
     "name": "stdout",
     "output_type": "stream",
     "text": [
      "섭씨온도 : 32.5\n",
      "화씨온도: 90.5\n"
     ]
    }
   ],
   "source": [
    "# 입력함수는 항상 문자열을 리턴 => 숫자 데이터는 형변환 필요\n",
    "c=float(input(\"섭씨 온도를 입력하세요\"))\n",
    "f=c*1.8+32\n",
    "print('섭씨온도 :', c)\n",
    "print('화씨온도:', f)"
   ]
  },
  {
   "cell_type": "code",
   "execution_count": 56,
   "metadata": {},
   "outputs": [
    {
     "name": "stdout",
     "output_type": "stream",
     "text": [
      "Right\n",
      "a is 5\n",
      "**********\n"
     ]
    }
   ],
   "source": [
    "# if 문\n",
    "a=5\n",
    "if(a==5):\n",
    "  print(\"Right\")\n",
    "  print(\"a is 5\")\n",
    "print(\"**********\")"
   ]
  },
  {
   "cell_type": "code",
   "execution_count": 57,
   "metadata": {},
   "outputs": [
    {
     "name": "stdout",
     "output_type": "stream",
     "text": [
      "Right\n",
      "a is 5\n",
      "end if\n"
     ]
    }
   ],
   "source": [
    "#if - else 문\n",
    "if(a==5):\n",
    "  print(\"Right\")\n",
    "  print('a is 5')\n",
    "else:\n",
    "  print('a is not 5')\n",
    "\n",
    "print(\"end if\")"
   ]
  },
  {
   "cell_type": "code",
   "execution_count": 59,
   "metadata": {},
   "outputs": [
    {
     "name": "stdout",
     "output_type": "stream",
     "text": [
      "등급 F입니다\n"
     ]
    }
   ],
   "source": [
    "# if- elif - else 문\n",
    "score=float(input(\"점수 입력\"))\n",
    "\n",
    "if(score>=90):\n",
    "  print(\"등급 A입니다\")\n",
    "elif(score>=80):\n",
    "  print(\"등급 B입니다\")\n",
    "elif(score>=70):\n",
    "  print(\"등급 C입니다\")\n",
    "else:\n",
    "  print(\"등급 F입니다\")"
   ]
  },
  {
   "cell_type": "code",
   "execution_count": 60,
   "metadata": {},
   "outputs": [
    {
     "name": "stdout",
     "output_type": "stream",
     "text": [
      "합격\n"
     ]
    }
   ],
   "source": [
    "# if문의 조건 논리 연산자 사용\n",
    "#평균이 70점 이상이고, 각 과목의 점수는 60점 이상이면 합격\n",
    "score1=float(input(\"점수1\"))\n",
    "score2=float(input(\"점수2\"))\n",
    "\n",
    "avg=(score1+score2)/2\n",
    "if(avg>=70 and score1>=60 and score2>=60):\n",
    "  print(\"합격\")\n",
    "else:\n",
    "  print(\"불합격\")\n",
    "\n"
   ]
  },
  {
   "cell_type": "code",
   "execution_count": null,
   "metadata": {},
   "outputs": [],
   "source": [
    "score1=float(input(\"점수1\"))\n",
    "score2=float(input(\"점수2\"))\n",
    "avg=(score1+score2)/2\n",
    "if(avg<70 or score1<60 or score2>60):\n",
    "  print(\"불합격\")\n",
    "else:\n",
    "  print(\"합격\")"
   ]
  },
  {
   "cell_type": "code",
   "execution_count": 64,
   "metadata": {},
   "outputs": [
    {
     "name": "stdout",
     "output_type": "stream",
     "text": [
      "초등학생\n"
     ]
    }
   ],
   "source": [
    "# if - elif - else, 논리연산자  실습 \n",
    "year=input(\"태어난 연도 입력\")\n",
    "age=2024-int(year)+1\n",
    "\n",
    "if(age>26 or age<8):\n",
    "  print(\"학생이 아닙니다\")\n",
    "elif(age>=20):\n",
    "  print('대학생')\n",
    "elif(age>=17):\n",
    "  print('고등학생')\n",
    "elif(age>=14):\n",
    "  print('중학생')\n",
    "elif(age>=8):\n",
    "  print(\"초등학생\")"
   ]
  },
  {
   "cell_type": "code",
   "execution_count": 68,
   "metadata": {},
   "outputs": [
    {
     "name": "stdout",
     "output_type": "stream",
     "text": [
      "0\n",
      "1\n",
      "2\n",
      "3\n",
      "4\n",
      "5\n",
      "6\n",
      "7\n",
      "8\n",
      "9\n"
     ]
    }
   ],
   "source": [
    "#for문 범위 사용\n",
    "for i in range(0,10,1):\n",
    "  print(i)"
   ]
  },
  {
   "cell_type": "code",
   "execution_count": 69,
   "metadata": {},
   "outputs": [
    {
     "name": "stdout",
     "output_type": "stream",
     "text": [
      "1\n",
      "2\n",
      "3\n",
      "4\n",
      "5\n"
     ]
    }
   ],
   "source": [
    "# for문 collection 사용\n",
    "a=[1,2,3,4,5]\n",
    "for i in a:\n",
    "  print(i)"
   ]
  },
  {
   "cell_type": "code",
   "execution_count": 70,
   "metadata": {},
   "outputs": [
    {
     "name": "stdout",
     "output_type": "stream",
     "text": [
      "a\n",
      "b\n",
      "c\n",
      "d\n",
      "e\n",
      "f\n"
     ]
    }
   ],
   "source": [
    "s1=\"abcdef\"\n",
    "for i in s1:\n",
    "  print(i)"
   ]
  },
  {
   "cell_type": "code",
   "execution_count": 72,
   "metadata": {},
   "outputs": [
    {
     "name": "stdout",
     "output_type": "stream",
     "text": [
      "0\n",
      "1\n",
      "2\n",
      "3\n",
      "4\n",
      "6\n",
      "7\n"
     ]
    }
   ],
   "source": [
    "# break, continue 사용\n",
    "for i in range(10):\n",
    "  if i==5:continue\n",
    "  if i==8:break\n",
    "  print(i)"
   ]
  },
  {
   "cell_type": "code",
   "execution_count": 74,
   "metadata": {},
   "outputs": [
    {
     "name": "stdout",
     "output_type": "stream",
     "text": [
      "음료목록:1.오렌지주스(100), 2.커피(200), 3.콜라(300), 4.종료\n",
      "종료선택\n",
      "잔액: 100\n",
      "end\n"
     ]
    }
   ],
   "source": [
    "# 조건문, 반복문 실습하기\n",
    "while True:\n",
    "  print(\"음료목록:1.오렌지주스(100), 2.커피(200), 3.콜라(300), 4.종료\")\n",
    "  coin=int(input(\"동전을 넣어주세요\"))\n",
    "  drink=int(input(\"음료를 선택하세요\"))\n",
    "\n",
    "  if drink==1:\n",
    "    if coin>=100:\n",
    "      remain=coin-100\n",
    "      print(\"음료가 곧 제공됩니다\")\n",
    "      print(\"잔액:\", remain)\n",
    "    else:\n",
    "      print(\"잔액이 부족합니다\")\n",
    "\n",
    "  elif drink==2:\n",
    "    if coin>=200:\n",
    "      remain=coin-200\n",
    "      print(\"음료가 곧 제공됩니다\")\n",
    "      print(\"잔액:\", remain)\n",
    "    else:\n",
    "      print(\"잔액이 부족합니다\")\n",
    "\n",
    "  elif drink==3:\n",
    "    if coin>=300:\n",
    "      remain=coin-300\n",
    "      print(\"음료가 곧 제공됩니다.\")\n",
    "      print(\"잔액:\", remain)\n",
    "    else:\n",
    "      print(\"잔액이 부족합니다\")\n",
    "\n",
    "  elif drink==4:\n",
    "    remain=coin-0\n",
    "    print(\"종료선택\")\n",
    "    print(\"잔액:\", remain)\n",
    "    break\n",
    "  else:\n",
    "    print(\"없는 메뉴입니다\")\n",
    "\n",
    "print(\"end\")"
   ]
  },
  {
   "cell_type": "code",
   "execution_count": 77,
   "metadata": {},
   "outputs": [
    {
     "name": "stdout",
     "output_type": "stream",
     "text": [
      "x= 5\n",
      "9\n",
      "3\n"
     ]
    }
   ],
   "source": [
    "# 함수 실습(call by value)\n",
    "def f(x):\n",
    "  y=x\n",
    "  x=5\n",
    "  print(\"x=\",x)\n",
    "  return y*y\n",
    "x=3\n",
    "print(f(x))\n",
    "print(x)"
   ]
  },
  {
   "cell_type": "code",
   "execution_count": 78,
   "metadata": {},
   "outputs": [
    {
     "name": "stdout",
     "output_type": "stream",
     "text": [
      "[0, 1]\n"
     ]
    }
   ],
   "source": [
    "# 함수 실습 (call by reference)\n",
    "def spam(ham):\n",
    "  ham.append(1)\n",
    "\n",
    "ham=[0]\n",
    "spam(ham)\n",
    "print(ham)"
   ]
  },
  {
   "cell_type": "code",
   "execution_count": 79,
   "metadata": {},
   "outputs": [
    {
     "name": "stdout",
     "output_type": "stream",
     "text": [
      "10\n",
      "In Function : 20\n",
      "In main: 10\n"
     ]
    },
    {
     "ename": "NameError",
     "evalue": "name 't' is not defined",
     "output_type": "error",
     "traceback": [
      "\u001b[1;31m---------------------------------------------------------------------------\u001b[0m",
      "\u001b[1;31mNameError\u001b[0m                                 Traceback (most recent call last)",
      "Cell \u001b[1;32mIn[79], line 9\u001b[0m\n\u001b[0;32m      7\u001b[0m test(x)\n\u001b[0;32m      8\u001b[0m \u001b[38;5;28mprint\u001b[39m(\u001b[38;5;124m'\u001b[39m\u001b[38;5;124mIn main:\u001b[39m\u001b[38;5;124m'\u001b[39m,x)\n\u001b[1;32m----> 9\u001b[0m \u001b[38;5;28mprint\u001b[39m(\u001b[38;5;124m'\u001b[39m\u001b[38;5;124mIn Main:\u001b[39m\u001b[38;5;124m'\u001b[39m,t)\n",
      "\u001b[1;31mNameError\u001b[0m: name 't' is not defined"
     ]
    }
   ],
   "source": [
    "# 변수의 범위\n",
    "def test(t):\n",
    "  print(x)\n",
    "  t=20\n",
    "  print('In Function :', t)\n",
    "\n",
    "x=10\n",
    "test(x)\n",
    "print('In main:',x)\n",
    "print('In Main:',t)"
   ]
  },
  {
   "cell_type": "code",
   "execution_count": 82,
   "metadata": {},
   "outputs": [
    {
     "name": "stdout",
     "output_type": "stream",
     "text": [
      "In function: I love London\n",
      "In Main: I love London\n"
     ]
    }
   ],
   "source": [
    "# 전역변수 함수 영역에서 사용\n",
    "def f():\n",
    "  #s=\"I love London!\"\n",
    "  global s\n",
    "  s=\"I love London\"\n",
    "  print('In function:',s)\n",
    "\n",
    "s=\"I love Paris!\"\n",
    "f()\n",
    "print(\"In Main:\",s)"
   ]
  },
  {
   "cell_type": "code",
   "execution_count": 84,
   "metadata": {},
   "outputs": [
    {
     "name": "stdout",
     "output_type": "stream",
     "text": [
      "1 2 3\n",
      "5 10 30\n"
     ]
    }
   ],
   "source": [
    "# 함수의 매개변수\n",
    "def f(a, b, c):\n",
    "  print(a, b, c)\n",
    "\n",
    "f(1, 2, 3)\n",
    "f(b=10, c=30, a=5)"
   ]
  },
  {
   "cell_type": "code",
   "execution_count": 86,
   "metadata": {},
   "outputs": [
    {
     "name": "stdout",
     "output_type": "stream",
     "text": [
      "10 20 10\n",
      "10 20 30\n",
      "30 5 10\n"
     ]
    }
   ],
   "source": [
    "# 디폴트 매개변수\n",
    "def f1(a, b=5, c=10):\n",
    "  print(a, b, c)\n",
    "\n",
    "f1(10, 20)\n",
    "f1(10, 20, 30)\n",
    "f1(30)"
   ]
  },
  {
   "cell_type": "code",
   "execution_count": 90,
   "metadata": {},
   "outputs": [
    {
     "name": "stdout",
     "output_type": "stream",
     "text": [
      "1 2 [3]\n",
      "1 2 3\n",
      "1 2 [3, 4, 5]\n",
      "1 2 3 4 5\n",
      "1 2 [3, 4, 5, 6, 7]\n",
      "1 2 3 4 5 6 7\n"
     ]
    }
   ],
   "source": [
    "# 가변 인수 활용\n",
    "def func1(*arg):\n",
    "  a, b, *c=arg\n",
    "  print(a, b, c)\n",
    "  print(a, b, *c)\n",
    "\n",
    "func1(1, 2, 3)\n",
    "func1(1, 2, 3, 4, 5)\n",
    "func1(1, 2, 3, 4, 5,6,7)"
   ]
  },
  {
   "cell_type": "code",
   "execution_count": 92,
   "metadata": {},
   "outputs": [
    {
     "name": "stdout",
     "output_type": "stream",
     "text": [
      "{'first': 10, 'second': 20, 'third': 30}\n",
      "first:10\n",
      "second:20\n",
      "third:30\n"
     ]
    }
   ],
   "source": [
    "# 키워드 가변 인수\n",
    "def func2(**kwarg):\n",
    "  print(kwarg)\n",
    "  print(\"first:{first}\".format(**kwarg))\n",
    "  print(\"second:{second}\".format(**kwarg))\n",
    "  print(\"third:{third}\".format(**kwarg))\n",
    "\n",
    "func2(first=10, second=20, third=30)\n",
    "  \n"
   ]
  },
  {
   "cell_type": "code",
   "execution_count": 98,
   "metadata": {},
   "outputs": [
    {
     "name": "stdout",
     "output_type": "stream",
     "text": [
      "H d\n",
      "H d\n"
     ]
    }
   ],
   "source": [
    "# 문자열 인덱싱\n",
    "a='Hello world'\n",
    "print(a[0], a[10])\n",
    "print(a[-11], a[-1])"
   ]
  },
  {
   "cell_type": "code",
   "execution_count": 104,
   "metadata": {},
   "outputs": [
    {
     "name": "stdout",
     "output_type": "stream",
     "text": [
      "el o\n",
      "dlrow olleH\n",
      "Hello world\n",
      "Hlowrd\n",
      " world\n",
      "Hello\n"
     ]
    }
   ],
   "source": [
    "# 문자열 슬라이싱\n",
    "print(a[1:9:2]) #start:stop:step\n",
    "print(a[::-1])\n",
    "print(a[-50:50])\n",
    "print(a[::2])\n",
    "print(a[5:])\n",
    "print(a[:5])"
   ]
  },
  {
   "cell_type": "code",
   "execution_count": 108,
   "metadata": {},
   "outputs": [
    {
     "name": "stdout",
     "output_type": "stream",
     "text": [
      "team, lab\n",
      "teamteamlablablab\n",
      "team2\n"
     ]
    }
   ],
   "source": [
    "#문자열 연산\n",
    "a='team'\n",
    "b='lab'\n",
    "print(a+\", \"+b)\n",
    "print(a*2+b*3)\n",
    "print(a+str(2))"
   ]
  },
  {
   "cell_type": "code",
   "execution_count": 122,
   "metadata": {},
   "outputs": [
    {
     "name": "stdout",
     "output_type": "stream",
     "text": [
      "Teamlab X Inflearn\n",
      "teamlab x inflearn\n",
      "TEAMLAB X INFLEARN\n",
      "Teamlab x inflearn\n",
      "3\n",
      "False\n",
      "True\n",
      "True\n",
      "['teamlab', 'x', 'iNflearn']\n"
     ]
    }
   ],
   "source": [
    "# 문자열 함수 활용\n",
    "a='teamlab x iNflearn'\n",
    "print(a.title())\n",
    "print(a.lower())\n",
    "print(a.upper())\n",
    "print(a.capitalize())\n",
    "print(a.count('a'))\n",
    "print(a.isdigit())\n",
    "print(a.startswith(\"team\"))\n",
    "print(a.endswith('n'))\n",
    "print(a.split())"
   ]
  },
  {
   "cell_type": "code",
   "execution_count": null,
   "metadata": {},
   "outputs": [],
   "source": [
    "b=\"\"\"It's Ok\n",
    "I'm happy\n",
    "See you\"\"\"\n",
    "c='''abdc\n",
    "kkkk\n",
    "ddd\n",
    "'''"
   ]
  },
  {
   "cell_type": "code",
   "execution_count": 123,
   "metadata": {},
   "outputs": [
    {
     "data": {
      "text/plain": [
       "['Yesterday all my troubles\\n',\n",
       " 'seemed so far away.\\n',\n",
       " 'Now it looks\\n',\n",
       " \"as though they're here to stay.\\n\",\n",
       " 'Oh, I believe in yesterday.\\n',\n",
       " '\\n',\n",
       " \"Suddenly I'm not half\\n\",\n",
       " 'the man I used to be.\\n',\n",
       " \"There's a shadow hanging over me.\\n\",\n",
       " 'Oh, yesterday came suddenly.\\n',\n",
       " '\\n',\n",
       " 'Why she had to go,\\n',\n",
       " \"I don't know,\\n\",\n",
       " \"she wouldn't say.\\n\",\n",
       " 'I said something wrong,\\n',\n",
       " 'now I long for yesterday.\\n',\n",
       " '\\n',\n",
       " 'Yesterday love was\\n',\n",
       " 'such an easy game to play.\\n',\n",
       " 'Now I need a place to hide away.\\n',\n",
       " 'Oh, I believe in yesterday.\\n',\n",
       " '\\n',\n",
       " 'Why she had to go,\\n',\n",
       " \"I don't know,\\n\",\n",
       " \"she wouldn't say.\\n\",\n",
       " 'I said something wrong,\\n',\n",
       " 'now I long for yesterday.\\n',\n",
       " '\\n',\n",
       " 'Yesterday love was\\n',\n",
       " 'such an easy game to play.\\n',\n",
       " 'Now I need a place to hide away.\\n',\n",
       " 'Oh, I believe in yesterday.\\n',\n",
       " '\\n',\n",
       " 'Mm mm mm mm mm mm mm\\n']"
      ]
     },
     "execution_count": 123,
     "metadata": {},
     "output_type": "execute_result"
    }
   ],
   "source": [
    "# 문자열 함수 활용 실습\n",
    "f=open('yesterday.txt','r')\n",
    "yesterday_list=f.readlines()\n",
    "yesterday_list\n",
    "f.close()"
   ]
  },
  {
   "cell_type": "code",
   "execution_count": 126,
   "metadata": {},
   "outputs": [
    {
     "name": "stdout",
     "output_type": "stream",
     "text": [
      "Number of a word 'Yesterday' 9\n"
     ]
    }
   ],
   "source": [
    "contents=\"\"\n",
    "for line in yesterday_list:\n",
    "  contents=contents + line.strip()+\"\\n\"\n",
    "\n",
    "#print(contents)\n",
    "n_of_yesterday=contents.lower().count('yesterday')\n",
    "print(\"Number of a word 'Yesterday'\", n_of_yesterday)"
   ]
  },
  {
   "cell_type": "code",
   "execution_count": 133,
   "metadata": {},
   "outputs": [
    {
     "name": "stdout",
     "output_type": "stream",
     "text": [
      "홍길동 20 학생\n",
      "내이름은  홍길동 이고, 나이는  20 살이며, 직업은  학생 입니다\n",
      "내이름은 홍길동이고, 나이는 20이며, 직업은 학생입니다\n",
      "내이름은 홍길동이고, 나이는 20이며, 직업은 학생입니다\n",
      "이름:홍길동,직업은 학생이고, 이름은 홍길동입니다\n"
     ]
    }
   ],
   "source": [
    "# 문자열 서식 %, format()\n",
    "name=\"홍길동\"\n",
    "age=20\n",
    "job=\"학생\"\n",
    "print(name, age, job)\n",
    "print('내이름은 ', name,'이고, 나이는 ',age,'살이며, 직업은 ',job,'입니다')\n",
    "print('내이름은 %s이고, 나이는 %d이며, 직업은 %s입니다'%(name,age,job))\n",
    "print(\"내이름은 {0}이고, 나이는 {1}이며, 직업은 {2}입니다\".format(name,age,job))\n",
    "print(\"이름:{0},직업은 {1}이고, 이름은 {0}입니다\".format(name, job))"
   ]
  },
  {
   "cell_type": "code",
   "execution_count": 142,
   "metadata": {},
   "outputs": [
    {
     "name": "stdout",
     "output_type": "stream",
     "text": [
      "       홍길동\n",
      "        20\n",
      " 5.46\n"
     ]
    }
   ],
   "source": [
    "print(\"%10s\"%(name))\n",
    "print(\"%10d\"%age)\n",
    "print(\"%5.2f\"%5.4567745)"
   ]
  },
  {
   "cell_type": "code",
   "execution_count": 146,
   "metadata": {},
   "outputs": [
    {
     "name": "stdout",
     "output_type": "stream",
     "text": [
      "       홍길동\n",
      "홍길동       20\n"
     ]
    }
   ],
   "source": [
    "print(\"{0:>10s}\".format(name))\n",
    "print(\"{0:<10s}{1}\".format(name, age))"
   ]
  },
  {
   "cell_type": "code",
   "execution_count": 147,
   "metadata": {},
   "outputs": [
    {
     "name": "stdout",
     "output_type": "stream",
     "text": [
      "홍길동  20      학생\n"
     ]
    }
   ],
   "source": [
    "print(\"{name1:<5}{age1:<5}{job1:>5}\".format(name1=name, age1=age, job1=job))"
   ]
  },
  {
   "cell_type": "markdown",
   "metadata": {},
   "source": []
  }
 ],
 "metadata": {
  "kernelspec": {
   "display_name": "base",
   "language": "python",
   "name": "python3"
  },
  "language_info": {
   "codemirror_mode": {
    "name": "ipython",
    "version": 3
   },
   "file_extension": ".py",
   "mimetype": "text/x-python",
   "name": "python",
   "nbconvert_exporter": "python",
   "pygments_lexer": "ipython3",
   "version": "3.12.4"
  }
 },
 "nbformat": 4,
 "nbformat_minor": 2
}
