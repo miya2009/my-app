{
 "cells": [
  {
   "cell_type": "code",
   "execution_count": 1,
   "metadata": {},
   "outputs": [
    {
     "name": "stdout",
     "output_type": "stream",
     "text": [
      "red black\n",
      "1 10\n"
     ]
    }
   ],
   "source": [
    "#리스트 \n",
    "colors=['red','green','blue','black']\n",
    "numbers=[1,2,3,4,5,6,7,8,9,10]\n",
    "\n",
    "#리스트 인덱싱\n",
    "print(colors[0], colors[3])\n",
    "print(numbers[0],numbers[9])"
   ]
  },
  {
   "cell_type": "code",
   "execution_count": 6,
   "metadata": {},
   "outputs": [
    {
     "data": {
      "text/plain": [
       "[10, 9, 8, 7, 6, 5, 4, 3, 2, 1]"
      ]
     },
     "execution_count": 6,
     "metadata": {},
     "output_type": "execute_result"
    }
   ],
   "source": [
    "# 리스트 스라이싱\n",
    "start=0\n",
    "stop=10\n",
    "step=1\n",
    "numbers[start:stop:step]\n",
    "numbers[:10:]\n",
    "numbers[::-1]"
   ]
  },
  {
   "cell_type": "code",
   "execution_count": 18,
   "metadata": {},
   "outputs": [
    {
     "name": "stdout",
     "output_type": "stream",
     "text": [
      "['red', 'blue', 'green', 'orange', 'black', 'white']\n",
      "['red', 'blue', 'green', 'red', 'blue', 'green']\n",
      "True\n",
      "['red', 'blue', 'green', 'pink']\n",
      "['red', 'blue', 'green', 'pink', 'orange', 'black', 'white']\n",
      "['red', 'purple', 'blue', 'green', 'pink', 'orange', 'black', 'white']\n",
      "['red', 'blue', 'green', 'pink', 'orange', 'black', 'white']\n",
      "['red', 'green', 'pink', 'orange', 'black', 'white']\n"
     ]
    }
   ],
   "source": [
    "#연산\n",
    "color1=['red','blue','green']\n",
    "color2=['orange','black','white']\n",
    "print(color1+color2)\n",
    "print(color1*2)\n",
    "print('red' in color1)\n",
    "color1.append('pink')\n",
    "print(color1)\n",
    "color1.extend(color2)\n",
    "print(color1)\n",
    "color1.insert(1,'purple')\n",
    "print(color1)\n",
    "color1.remove('purple')\n",
    "print(color1)\n",
    "del color1[1]\n",
    "print(color1)"
   ]
  },
  {
   "cell_type": "code",
   "execution_count": 22,
   "metadata": {},
   "outputs": [
    {
     "name": "stdout",
     "output_type": "stream",
     "text": [
      "1 2 3\n",
      "1 [2, 3]\n"
     ]
    }
   ],
   "source": [
    "#리스트 패킹과 언패킹\n",
    "t=[1,2,3]\n",
    "a, b, c=t\n",
    "print(a, b, c)\n",
    "#a,b,c,d=t\n",
    "a,*b=t\n",
    "print(a, b)"
   ]
  },
  {
   "cell_type": "code",
   "execution_count": 26,
   "metadata": {},
   "outputs": [
    {
     "name": "stdout",
     "output_type": "stream",
     "text": [
      "[1, 2, 'abc', ['red', 'green', 'blue', 'black']]\n",
      "1 2\n",
      "abc\n",
      "red\n"
     ]
    }
   ],
   "source": [
    "# 리스트의 다양한 데이터 type \n",
    "list1=[1,2, 'abc', colors]\n",
    "print(list1)\n",
    "print(list1[0], list1[1])\n",
    "print(list1[2])\n",
    "print(list1[3][0])"
   ]
  },
  {
   "cell_type": "code",
   "execution_count": 27,
   "metadata": {},
   "outputs": [
    {
     "name": "stdout",
     "output_type": "stream",
     "text": [
      "[[49, 79, 20, 100, 80], [43, 59, 85, 30, 90], [49, 79, 48, 60, 100]]\n"
     ]
    }
   ],
   "source": [
    "# 2차원 리스트 \n",
    "kor_score=[49,79,20,100,80]\n",
    "math_score=[43,59,85,30,90]\n",
    "eng_score=[49,79,48,60,100]\n",
    "midterm_score=[kor_score, math_score, eng_score]\n",
    "print(midterm_score)"
   ]
  },
  {
   "cell_type": "code",
   "execution_count": 28,
   "metadata": {},
   "outputs": [
    {
     "name": "stdout",
     "output_type": "stream",
     "text": [
      "[[49, 79, 20, 100, 80], [100, 59, 85, 30, 90], [49, 79, 48, 60, 100]]\n"
     ]
    }
   ],
   "source": [
    "math_score[0]=100\n",
    "print(midterm_score)"
   ]
  },
  {
   "cell_type": "code",
   "execution_count": 34,
   "metadata": {},
   "outputs": [
    {
     "name": "stdout",
     "output_type": "stream",
     "text": [
      "[198.0, 217.0, 153.0, 190.0, 270.0]\n",
      "[66.0, 72.33333333333333, 51.0, 63.333333333333336, 90.0]\n"
     ]
    }
   ],
   "source": [
    "#학생별 평균구하기\n",
    "avg=[0.0,0.0,0.0,0.0,0.0]\n",
    "for i_scores in midterm_score:\n",
    "  for j in range(len(i_scores)):\n",
    "    avg[j]+=i_scores[j]\n",
    "print(avg)\n",
    "\n",
    "for i in range(len(avg)):\n",
    "  avg[i]/=3\n",
    "\n",
    "print(avg)\n"
   ]
  }
 ],
 "metadata": {
  "kernelspec": {
   "display_name": "base",
   "language": "python",
   "name": "python3"
  },
  "language_info": {
   "codemirror_mode": {
    "name": "ipython",
    "version": 3
   },
   "file_extension": ".py",
   "mimetype": "text/x-python",
   "name": "python",
   "nbconvert_exporter": "python",
   "pygments_lexer": "ipython3",
   "version": "3.12.4"
  }
 },
 "nbformat": 4,
 "nbformat_minor": 2
}
